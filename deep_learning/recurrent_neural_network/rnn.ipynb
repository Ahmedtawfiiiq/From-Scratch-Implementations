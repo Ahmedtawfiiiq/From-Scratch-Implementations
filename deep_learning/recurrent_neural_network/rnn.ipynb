{
 "cells": [
  {
   "cell_type": "code",
   "execution_count": 127,
   "metadata": {},
   "outputs": [],
   "source": [
    "import numpy as np"
   ]
  },
  {
   "cell_type": "code",
   "execution_count": 128,
   "metadata": {},
   "outputs": [],
   "source": [
    "import pandas as pd\n",
    "\n",
    "# csv file already contains index column so we don't need to specify index_col\n",
    "X_train = pd.read_csv('dataset/train_data.csv', index_col=0)"
   ]
  },
  {
   "cell_type": "code",
   "execution_count": 129,
   "metadata": {},
   "outputs": [
    {
     "data": {
      "text/html": [
       "<div>\n",
       "<style scoped>\n",
       "    .dataframe tbody tr th:only-of-type {\n",
       "        vertical-align: middle;\n",
       "    }\n",
       "\n",
       "    .dataframe tbody tr th {\n",
       "        vertical-align: top;\n",
       "    }\n",
       "\n",
       "    .dataframe thead th {\n",
       "        text-align: right;\n",
       "    }\n",
       "</style>\n",
       "<table border=\"1\" class=\"dataframe\">\n",
       "  <thead>\n",
       "    <tr style=\"text-align: right;\">\n",
       "      <th></th>\n",
       "      <th>string</th>\n",
       "      <th>valid</th>\n",
       "    </tr>\n",
       "  </thead>\n",
       "  <tbody>\n",
       "    <tr>\n",
       "      <th>0</th>\n",
       "      <td>BPTVXPVXPTTVXVE</td>\n",
       "      <td>0</td>\n",
       "    </tr>\n",
       "    <tr>\n",
       "      <th>1</th>\n",
       "      <td>BPVXPVXPVXPTTVXPTTVSE</td>\n",
       "      <td>0</td>\n",
       "    </tr>\n",
       "    <tr>\n",
       "      <th>2</th>\n",
       "      <td>BNAFUCCAFUCCAFUADE</td>\n",
       "      <td>0</td>\n",
       "    </tr>\n",
       "    <tr>\n",
       "      <th>3</th>\n",
       "      <td>BNWWWWWVZUWWVZRE</td>\n",
       "      <td>0</td>\n",
       "    </tr>\n",
       "    <tr>\n",
       "      <th>4</th>\n",
       "      <td>BPTVPXVPXTVPXTTTTTTVPSE</td>\n",
       "      <td>1</td>\n",
       "    </tr>\n",
       "  </tbody>\n",
       "</table>\n",
       "</div>"
      ],
      "text/plain": [
       "                    string  valid\n",
       "0          BPTVXPVXPTTVXVE      0\n",
       "1    BPVXPVXPVXPTTVXPTTVSE      0\n",
       "2       BNAFUCCAFUCCAFUADE      0\n",
       "3         BNWWWWWVZUWWVZRE      0\n",
       "4  BPTVPXVPXTVPXTTTTTTVPSE      1"
      ]
     },
     "execution_count": 129,
     "metadata": {},
     "output_type": "execute_result"
    }
   ],
   "source": [
    "X_train.head()"
   ]
  },
  {
   "cell_type": "code",
   "execution_count": 130,
   "metadata": {},
   "outputs": [],
   "source": [
    "# only select the rows with valid = 1\n",
    "X_train = X_train[X_train['valid'] == 1]\n",
    "\n",
    "# drop the valid column\n",
    "X_train = X_train.drop('valid', axis=1)"
   ]
  },
  {
   "cell_type": "code",
   "execution_count": 131,
   "metadata": {},
   "outputs": [
    {
     "data": {
      "text/html": [
       "<div>\n",
       "<style scoped>\n",
       "    .dataframe tbody tr th:only-of-type {\n",
       "        vertical-align: middle;\n",
       "    }\n",
       "\n",
       "    .dataframe tbody tr th {\n",
       "        vertical-align: top;\n",
       "    }\n",
       "\n",
       "    .dataframe thead th {\n",
       "        text-align: right;\n",
       "    }\n",
       "</style>\n",
       "<table border=\"1\" class=\"dataframe\">\n",
       "  <thead>\n",
       "    <tr style=\"text-align: right;\">\n",
       "      <th></th>\n",
       "      <th>string</th>\n",
       "    </tr>\n",
       "  </thead>\n",
       "  <tbody>\n",
       "    <tr>\n",
       "      <th>4</th>\n",
       "      <td>BPTVPXVPXTVPXTTTTTTVPSE</td>\n",
       "    </tr>\n",
       "    <tr>\n",
       "      <th>5</th>\n",
       "      <td>BTXXTTVPXVPXVVE</td>\n",
       "    </tr>\n",
       "    <tr>\n",
       "      <th>6</th>\n",
       "      <td>BPTTTTTTVPXVPXVPXVVE</td>\n",
       "    </tr>\n",
       "    <tr>\n",
       "      <th>7</th>\n",
       "      <td>BTSXXTTTTTVPXTTTVPXVPSE</td>\n",
       "    </tr>\n",
       "    <tr>\n",
       "      <th>10</th>\n",
       "      <td>BTXXVPXTTVPXTTTTVPXVPXTTVVE</td>\n",
       "    </tr>\n",
       "  </tbody>\n",
       "</table>\n",
       "</div>"
      ],
      "text/plain": [
       "                         string\n",
       "4       BPTVPXVPXTVPXTTTTTTVPSE\n",
       "5               BTXXTTVPXVPXVVE\n",
       "6          BPTTTTTTVPXVPXVPXVVE\n",
       "7       BTSXXTTTTTVPXTTTVPXVPSE\n",
       "10  BTXXVPXTTVPXTTTTVPXVPXTTVVE"
      ]
     },
     "execution_count": 131,
     "metadata": {},
     "output_type": "execute_result"
    }
   ],
   "source": [
    "X_train.head()"
   ]
  },
  {
   "cell_type": "code",
   "execution_count": 132,
   "metadata": {},
   "outputs": [],
   "source": [
    "# reset the index\n",
    "X_train = X_train.reset_index(drop=True)"
   ]
  },
  {
   "cell_type": "code",
   "execution_count": 133,
   "metadata": {},
   "outputs": [
    {
     "data": {
      "text/html": [
       "<div>\n",
       "<style scoped>\n",
       "    .dataframe tbody tr th:only-of-type {\n",
       "        vertical-align: middle;\n",
       "    }\n",
       "\n",
       "    .dataframe tbody tr th {\n",
       "        vertical-align: top;\n",
       "    }\n",
       "\n",
       "    .dataframe thead th {\n",
       "        text-align: right;\n",
       "    }\n",
       "</style>\n",
       "<table border=\"1\" class=\"dataframe\">\n",
       "  <thead>\n",
       "    <tr style=\"text-align: right;\">\n",
       "      <th></th>\n",
       "      <th>string</th>\n",
       "    </tr>\n",
       "  </thead>\n",
       "  <tbody>\n",
       "    <tr>\n",
       "      <th>0</th>\n",
       "      <td>BPTVPXVPXTVPXTTTTTTVPSE</td>\n",
       "    </tr>\n",
       "    <tr>\n",
       "      <th>1</th>\n",
       "      <td>BTXXTTVPXVPXVVE</td>\n",
       "    </tr>\n",
       "    <tr>\n",
       "      <th>2</th>\n",
       "      <td>BPTTTTTTVPXVPXVPXVVE</td>\n",
       "    </tr>\n",
       "    <tr>\n",
       "      <th>3</th>\n",
       "      <td>BTSXXTTTTTVPXTTTVPXVPSE</td>\n",
       "    </tr>\n",
       "    <tr>\n",
       "      <th>4</th>\n",
       "      <td>BTXXVPXTTVPXTTTTVPXVPXTTVVE</td>\n",
       "    </tr>\n",
       "  </tbody>\n",
       "</table>\n",
       "</div>"
      ],
      "text/plain": [
       "                        string\n",
       "0      BPTVPXVPXTVPXTTTTTTVPSE\n",
       "1              BTXXTTVPXVPXVVE\n",
       "2         BPTTTTTTVPXVPXVPXVVE\n",
       "3      BTSXXTTTTTVPXTTTVPXVPSE\n",
       "4  BTXXVPXTTVPXTTTTVPXVPXTTVVE"
      ]
     },
     "execution_count": 133,
     "metadata": {},
     "output_type": "execute_result"
    }
   ],
   "source": [
    "X_train.head()"
   ]
  },
  {
   "cell_type": "code",
   "execution_count": 139,
   "metadata": {},
   "outputs": [
    {
     "name": "stdout",
     "output_type": "stream",
     "text": [
      "[[1. 0. 0. 0. 1. 0. 0. 0. 1.]\n",
      " [0. 1. 0. 0. 0. 1. 1. 0. 0.]\n",
      " [0. 0. 1. 1. 0. 0. 0. 1. 0.]]\n"
     ]
    }
   ],
   "source": [
    "from sklearn.preprocessing import OneHotEncoder\n",
    "\n",
    "def one_hot_encode(characters, matrix):\n",
    "    # convert each element in the matrix to a list of characters\n",
    "    matrix = [[char for char in row] for row in matrix]\n",
    "    # Create a dictionary of characters\n",
    "    char_dict = {char: i for i, char in enumerate(characters)}\n",
    "    # Create a list of lists of character indices\n",
    "    char_indices = [[char_dict[char] for char in row] for row in matrix]\n",
    "    # Create a OneHotEncoder object\n",
    "    encoder = OneHotEncoder()\n",
    "    # Fit the encoder on the character indices\n",
    "    encoder.fit(char_indices)\n",
    "    # Transform the character indices into a one-hot encoded matrix\n",
    "    one_hot_matrix = encoder.transform(char_indices).toarray()\n",
    "    return one_hot_matrix\n",
    "\n",
    "# Example usage\n",
    "characters = ['a', 'b', 'c']\n",
    "matrix = ['abc', 'bca', 'cab']\n",
    "one_hot_matrix = one_hot_encode(characters, matrix)\n",
    "print(one_hot_matrix)\n"
   ]
  },
  {
   "cell_type": "code",
   "execution_count": null,
   "metadata": {},
   "outputs": [],
   "source": [
    "# import one hot encoder\n",
    "from sklearn.preprocessing import OneHotEncoder\n",
    "\n",
    "# reber grammar vocabulary\n",
    "vocabulary = np.array(['B', 'T', 'P', 'S', 'X', 'V', 'E'])\n",
    "\n",
    "# create one hot encoder object\n",
    "one_hot_encoder = OneHotEncoder(categories=[vocabulary])\n",
    "\n",
    "# encode X_train data according to the vocabulary\n"
   ]
  }
 ],
 "metadata": {
  "kernelspec": {
   "display_name": "Python 3",
   "language": "python",
   "name": "python3"
  },
  "language_info": {
   "codemirror_mode": {
    "name": "ipython",
    "version": 3
   },
   "file_extension": ".py",
   "mimetype": "text/x-python",
   "name": "python",
   "nbconvert_exporter": "python",
   "pygments_lexer": "ipython3",
   "version": "3.10.6"
  },
  "orig_nbformat": 4
 },
 "nbformat": 4,
 "nbformat_minor": 2
}
